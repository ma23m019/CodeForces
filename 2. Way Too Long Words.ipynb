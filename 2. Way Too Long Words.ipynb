{
 "cells": [
  {
   "cell_type": "code",
   "execution_count": 17,
   "id": "98b69b63",
   "metadata": {
    "scrolled": true
   },
   "outputs": [
    {
     "name": "stdout",
     "output_type": "stream",
     "text": [
      "Enter the number of words to abbreviate: 3\n",
      "\n",
      "Enter the words:\n",
      "1. new\n",
      "2. abbreviation\n",
      "3. international\n",
      "\n",
      "Output:\n",
      "1. new\n",
      "2. a10n\n",
      "3. i11l\n"
     ]
    }
   ],
   "source": [
    "n = int(input(\"Enter the number of words to abbreviate: \"))\n",
    "lines = []\n",
    "print(\"\\nEnter the words:\")\n",
    "for i in range(n):\n",
    "    a = input(f\"{i+1}. \")\n",
    "    lines.append(a)\n",
    "\n",
    "print(\"\\nOutput:\")\n",
    "for i in lines:\n",
    "    if len(i) < 11:\n",
    "        print(f\"{lines.index(i)+1}. {i}\")\n",
    "    else:\n",
    "        print(f\"{lines.index(i)+1}. {i[0]+str(len(i)-2)+i[len(i)-1]}\")"
   ]
  }
 ],
 "metadata": {
  "kernelspec": {
   "display_name": "Python 3 (ipykernel)",
   "language": "python",
   "name": "python3"
  },
  "language_info": {
   "codemirror_mode": {
    "name": "ipython",
    "version": 3
   },
   "file_extension": ".py",
   "mimetype": "text/x-python",
   "name": "python",
   "nbconvert_exporter": "python",
   "pygments_lexer": "ipython3",
   "version": "3.11.5"
  }
 },
 "nbformat": 4,
 "nbformat_minor": 5
}
